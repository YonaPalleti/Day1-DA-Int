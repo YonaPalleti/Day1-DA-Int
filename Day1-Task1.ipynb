{
 "cells": [
  {
   "cell_type": "code",
   "execution_count": 17,
   "id": "4fb23592-4009-4483-99e3-739125962124",
   "metadata": {},
   "outputs": [
    {
     "name": "stdout",
     "output_type": "stream",
     "text": [
      "         ID  Year_Birth   Education Marital_Status   Income  Kidhome  \\\n",
      "0      5524        1957  Graduation         Single  58138.0        0   \n",
      "1      2174        1954  Graduation         Single  46344.0        1   \n",
      "2      4141        1965  Graduation       Together  71613.0        0   \n",
      "3      6182        1984  Graduation       Together  26646.0        1   \n",
      "4      5324        1981         PhD        Married  58293.0        1   \n",
      "...     ...         ...         ...            ...      ...      ...   \n",
      "2235  10870        1967  Graduation        Married  61223.0        0   \n",
      "2236   4001        1946         PhD       Together  64014.0        2   \n",
      "2237   7270        1981  Graduation       Divorced  56981.0        0   \n",
      "2238   8235        1956      Master       Together  69245.0        0   \n",
      "2239   9405        1954         PhD        Married  52869.0        1   \n",
      "\n",
      "      Teenhome Dt_Customer  Recency  MntWines  ...  NumWebVisitsMonth  \\\n",
      "0            0  04-09-2012       58       635  ...                  7   \n",
      "1            1  08-03-2014       38        11  ...                  5   \n",
      "2            0  21-08-2013       26       426  ...                  4   \n",
      "3            0  10-02-2014       26        11  ...                  6   \n",
      "4            0  19-01-2014       94       173  ...                  5   \n",
      "...        ...         ...      ...       ...  ...                ...   \n",
      "2235         1  13-06-2013       46       709  ...                  5   \n",
      "2236         1  10-06-2014       56       406  ...                  7   \n",
      "2237         0  25-01-2014       91       908  ...                  6   \n",
      "2238         1  24-01-2014        8       428  ...                  3   \n",
      "2239         1  15-10-2012       40        84  ...                  7   \n",
      "\n",
      "      AcceptedCmp3  AcceptedCmp4  AcceptedCmp5  AcceptedCmp1  AcceptedCmp2  \\\n",
      "0                0             0             0             0             0   \n",
      "1                0             0             0             0             0   \n",
      "2                0             0             0             0             0   \n",
      "3                0             0             0             0             0   \n",
      "4                0             0             0             0             0   \n",
      "...            ...           ...           ...           ...           ...   \n",
      "2235             0             0             0             0             0   \n",
      "2236             0             0             0             1             0   \n",
      "2237             0             1             0             0             0   \n",
      "2238             0             0             0             0             0   \n",
      "2239             0             0             0             0             0   \n",
      "\n",
      "      Complain  Z_CostContact  Z_Revenue  Response  \n",
      "0            0              3         11         1  \n",
      "1            0              3         11         0  \n",
      "2            0              3         11         0  \n",
      "3            0              3         11         0  \n",
      "4            0              3         11         0  \n",
      "...        ...            ...        ...       ...  \n",
      "2235         0              3         11         0  \n",
      "2236         0              3         11         0  \n",
      "2237         0              3         11         0  \n",
      "2238         0              3         11         0  \n",
      "2239         0              3         11         1  \n",
      "\n",
      "[2240 rows x 29 columns]\n"
     ]
    }
   ],
   "source": [
    "import pandas as pd\n",
    "\n",
    "df = pd.read_csv(\"marketing_campaign.csv\",delimiter='\\t')\n",
    "\n",
    "print(df)\n"
   ]
  },
  {
   "cell_type": "code",
   "execution_count": 8,
   "id": "08b713c8-67e9-4daf-9e0a-f7639f7865ba",
   "metadata": {},
   "outputs": [
    {
     "name": "stdout",
     "output_type": "stream",
     "text": [
      "ID\\tYear_Birth\\tEducation\\tMarital_Status\\tIncome\\tKidhome\\tTeenhome\\tDt_Customer\\tRecency\\tMntWines\\tMntFruits\\tMntMeatProducts\\tMntFishProducts\\tMntSweetProducts\\tMntGoldProds\\tNumDealsPurchases\\tNumWebPurchases\\tNumCatalogPurchases\\tNumStorePurchases\\tNumWebVisitsMonth\\tAcceptedCmp3\\tAcceptedCmp4\\tAcceptedCmp5\\tAcceptedCmp1\\tAcceptedCmp2\\tComplain\\tZ_CostContact\\tZ_Revenue\\tResponse    0\n",
      "dtype: int64\n"
     ]
    }
   ],
   "source": [
    "## To See total nulls in each column\n",
    "print(df.isnull().sum())\n",
    "\n",
    "# Drop rows with any nulls (or handle them manually)\n",
    "df = df.dropna()\n",
    "\n"
   ]
  },
  {
   "cell_type": "code",
   "execution_count": 10,
   "id": "55140569-2348-4202-8068-e0cf0473224a",
   "metadata": {},
   "outputs": [
    {
     "name": "stdout",
     "output_type": "stream",
     "text": [
      "     ID\\tYear_Birth\\tEducation\\tMarital_Status\\tIncome\\tKidhome\\tTeenhome\\tDt_Customer\\tRecency\\tMntWines\\tMntFruits\\tMntMeatProducts\\tMntFishProducts\\tMntSweetProducts\\tMntGoldProds\\tNumDealsPurchases\\tNumWebPurchases\\tNumCatalogPurchases\\tNumStorePurchases\\tNumWebVisitsMonth\\tAcceptedCmp3\\tAcceptedCmp4\\tAcceptedCmp5\\tAcceptedCmp1\\tAcceptedCmp2\\tComplain\\tZ_CostContact\\tZ_Revenue\\tResponse\n",
      "0     5524\\t1957\\tGraduation\\tSingle\\t58138\\t0\\t0\\t0...                                                                                                                                                                                                                                                                                                                                                  \n",
      "1     2174\\t1954\\tGraduation\\tSingle\\t46344\\t1\\t1\\t0...                                                                                                                                                                                                                                                                                                                                                  \n",
      "2     4141\\t1965\\tGraduation\\tTogether\\t71613\\t0\\t0\\...                                                                                                                                                                                                                                                                                                                                                  \n",
      "3     6182\\t1984\\tGraduation\\tTogether\\t26646\\t1\\t0\\...                                                                                                                                                                                                                                                                                                                                                  \n",
      "4     5324\\t1981\\tPhD\\tMarried\\t58293\\t1\\t0\\t19-01-2...                                                                                                                                                                                                                                                                                                                                                  \n",
      "...                                                 ...                                                                                                                                                                                                                                                                                                                                                  \n",
      "2235  10870\\t1967\\tGraduation\\tMarried\\t61223\\t0\\t1\\...                                                                                                                                                                                                                                                                                                                                                  \n",
      "2236  4001\\t1946\\tPhD\\tTogether\\t64014\\t2\\t1\\t10-06-...                                                                                                                                                                                                                                                                                                                                                  \n",
      "2237  7270\\t1981\\tGraduation\\tDivorced\\t56981\\t0\\t0\\...                                                                                                                                                                                                                                                                                                                                                  \n",
      "2238  8235\\t1956\\tMaster\\tTogether\\t69245\\t0\\t1\\t24-...                                                                                                                                                                                                                                                                                                                                                  \n",
      "2239  9405\\t1954\\tPhD\\tMarried\\t52869\\t1\\t1\\t15-10-2...                                                                                                                                                                                                                                                                                                                                                  \n",
      "\n",
      "[2240 rows x 1 columns]\n"
     ]
    }
   ],
   "source": [
    " # To remove duplicates\n",
    "df = df.drop_duplicates()\n",
    "print(df)"
   ]
  },
  {
   "cell_type": "code",
   "execution_count": 18,
   "id": "d2726b31-0925-4dec-8f72-53991769729f",
   "metadata": {},
   "outputs": [
    {
     "name": "stdout",
     "output_type": "stream",
     "text": [
      "         ID  Year_Birth   Education Marital_Status   Income  Kidhome  \\\n",
      "0      5524        1957  Graduation         SINGLE  58138.0        0   \n",
      "1      2174        1954  Graduation         SINGLE  46344.0        1   \n",
      "2      4141        1965  Graduation       TOGETHER  71613.0        0   \n",
      "3      6182        1984  Graduation       TOGETHER  26646.0        1   \n",
      "4      5324        1981         Phd        MARRIED  58293.0        1   \n",
      "...     ...         ...         ...            ...      ...      ...   \n",
      "2235  10870        1967  Graduation        MARRIED  61223.0        0   \n",
      "2236   4001        1946         Phd       TOGETHER  64014.0        2   \n",
      "2237   7270        1981  Graduation       DIVORCED  56981.0        0   \n",
      "2238   8235        1956      Master       TOGETHER  69245.0        0   \n",
      "2239   9405        1954         Phd        MARRIED  52869.0        1   \n",
      "\n",
      "      Teenhome Dt_Customer  Recency  MntWines  ...  NumWebVisitsMonth  \\\n",
      "0            0  04-09-2012       58       635  ...                  7   \n",
      "1            1  08-03-2014       38        11  ...                  5   \n",
      "2            0  21-08-2013       26       426  ...                  4   \n",
      "3            0  10-02-2014       26        11  ...                  6   \n",
      "4            0  19-01-2014       94       173  ...                  5   \n",
      "...        ...         ...      ...       ...  ...                ...   \n",
      "2235         1  13-06-2013       46       709  ...                  5   \n",
      "2236         1  10-06-2014       56       406  ...                  7   \n",
      "2237         0  25-01-2014       91       908  ...                  6   \n",
      "2238         1  24-01-2014        8       428  ...                  3   \n",
      "2239         1  15-10-2012       40        84  ...                  7   \n",
      "\n",
      "      AcceptedCmp3  AcceptedCmp4  AcceptedCmp5  AcceptedCmp1  AcceptedCmp2  \\\n",
      "0                0             0             0             0             0   \n",
      "1                0             0             0             0             0   \n",
      "2                0             0             0             0             0   \n",
      "3                0             0             0             0             0   \n",
      "4                0             0             0             0             0   \n",
      "...            ...           ...           ...           ...           ...   \n",
      "2235             0             0             0             0             0   \n",
      "2236             0             0             0             1             0   \n",
      "2237             0             1             0             0             0   \n",
      "2238             0             0             0             0             0   \n",
      "2239             0             0             0             0             0   \n",
      "\n",
      "      Complain  Z_CostContact  Z_Revenue  Response  \n",
      "0            0              3         11         1  \n",
      "1            0              3         11         0  \n",
      "2            0              3         11         0  \n",
      "3            0              3         11         0  \n",
      "4            0              3         11         0  \n",
      "...        ...            ...        ...       ...  \n",
      "2235         0              3         11         0  \n",
      "2236         0              3         11         0  \n",
      "2237         0              3         11         0  \n",
      "2238         0              3         11         0  \n",
      "2239         0              3         11         1  \n",
      "\n",
      "[2240 rows x 29 columns]\n"
     ]
    }
   ],
   "source": [
    " # Standardizing the text columns\n",
    "df[\"Education\"] = df['Education'].str.strip().str.title()\n",
    "df['Marital_Status'] = df['Marital_Status'].str.strip().str.upper()\n",
    "print(df)"
   ]
  },
  {
   "cell_type": "code",
   "execution_count": 25,
   "id": "823faaa6-4ec2-4dd9-8240-1cd55384678d",
   "metadata": {},
   "outputs": [
    {
     "data": {
      "text/plain": [
       "0      2012-09-04\n",
       "1      2014-03-08\n",
       "2      2013-08-21\n",
       "3      2014-02-10\n",
       "4      2014-01-19\n",
       "          ...    \n",
       "2235   2013-06-13\n",
       "2236   2014-06-10\n",
       "2237   2014-01-25\n",
       "2238   2014-01-24\n",
       "2239   2012-10-15\n",
       "Name: Dt_Customer, Length: 2240, dtype: datetime64[ns]"
      ]
     },
     "execution_count": 25,
     "metadata": {},
     "output_type": "execute_result"
    }
   ],
   "source": [
    "#Format Dates\n",
    "df['Dt_Customer'] = pd.to_datetime(df['Dt_Customer'], dayfirst=True)\n",
    "df['Dt_Customer']"
   ]
  },
  {
   "cell_type": "code",
   "execution_count": 29,
   "id": "184934ca-6bf1-48b5-83cb-dba957d423b4",
   "metadata": {},
   "outputs": [
    {
     "name": "stdout",
     "output_type": "stream",
     "text": [
      "Index(['id', 'year_birth', 'education', 'marital_status', 'income', 'kidhome',\n",
      "       'teenhome', 'dt_customer', 'recency', 'mntwines', 'mntfruits',\n",
      "       'mntmeatproducts', 'mntfishproducts', 'mntsweetproducts',\n",
      "       'mntgoldprods', 'numdealspurchases', 'numwebpurchases',\n",
      "       'numcatalogpurchases', 'numstorepurchases', 'numwebvisitsmonth',\n",
      "       'acceptedcmp3', 'acceptedcmp4', 'acceptedcmp5', 'acceptedcmp1',\n",
      "       'acceptedcmp2', 'complain', 'z_costcontact', 'z_revenue', 'response'],\n",
      "      dtype='object')\n"
     ]
    }
   ],
   "source": [
    "#Rename Columns\n",
    "\n",
    "print( df.columns.str.strip().str.lower().str.replace(' ', '_'))\n"
   ]
  },
  {
   "cell_type": "code",
   "execution_count": 30,
   "id": "b7af5e33-a3a3-4536-a9e8-38c935a83a5a",
   "metadata": {},
   "outputs": [],
   "source": [
    "#Fix DataTypes(e.g., age,income)\n",
    "df['year_birth'] = df['year_birth'].astype(int)\n",
    "df['income'] = df['income'].astype(float)\n",
    "\n"
   ]
  },
  {
   "cell_type": "code",
   "execution_count": 31,
   "id": "ceb243fe-8fbc-4103-9207-37b035ae6d2c",
   "metadata": {},
   "outputs": [],
   "source": [
    "# Saving the cleaned file\n",
    "df.to_csv(\"cleaned_customer_personality.csv\", index=False)\n"
   ]
  },
  {
   "cell_type": "code",
   "execution_count": null,
   "id": "661eb89e-fd71-4012-9650-327b457f4a9e",
   "metadata": {},
   "outputs": [],
   "source": []
  }
 ],
 "metadata": {
  "kernelspec": {
   "display_name": "Python 3 (ipykernel)",
   "language": "python",
   "name": "python3"
  },
  "language_info": {
   "codemirror_mode": {
    "name": "ipython",
    "version": 3
   },
   "file_extension": ".py",
   "mimetype": "text/x-python",
   "name": "python",
   "nbconvert_exporter": "python",
   "pygments_lexer": "ipython3",
   "version": "3.12.0"
  }
 },
 "nbformat": 4,
 "nbformat_minor": 5
}
